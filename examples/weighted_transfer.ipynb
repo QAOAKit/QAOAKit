{
 "cells": [
  {
   "cell_type": "markdown",
   "id": "three-planning",
   "metadata": {},
   "source": [
    "# Transferring parameters for weighted MaxCut\n",
    "\n",
    "The ability to transfer from unweighted to weighted graphs is well documented (see e.g. `examples/Transferability_to_unseen_instances.ipynb`). In this notebook, we demonstrate how to transfer the parameters from pre-optimized unweighted to weighted graphs."
   ]
  },
  {
   "cell_type": "code",
   "execution_count": 1,
   "id": "chief-worst",
   "metadata": {},
   "outputs": [],
   "source": [
    "import networkx as nx                    \n",
    "import pandas as pd                      \n",
    "import numpy as np                       \n",
    "from tqdm import tqdm                    \n",
    "tqdm.pandas()                            \n",
    "                                         \n",
    "from QAOAKit import (                \n",
    "    beta_to_qaoa_format,                 \n",
    "    gamma_to_qaoa_format,                \n",
    "    qaoa_maxcut_energy,                  \n",
    ")                  "
   ]
  },
  {
   "cell_type": "markdown",
   "id": "paperback-haven",
   "metadata": {},
   "source": [
    "## Step 0: load unseen graphs and optimal parameters for them\n",
    "\n",
    "To evaluate the power of this method, we will consider some 14-node random Erdos-Renyi graphs with uniformly random edge weights between [-1,1] for which we have previously optimized the parameters. This step can be skipped if you are trying to use parameters for your own graph!\n",
    "\n",
    "In this example, we only consider `p=2`."
   ]
  },
  {
   "cell_type": "code",
   "execution_count": 2,
   "id": "surprised-sacramento",
   "metadata": {},
   "outputs": [],
   "source": [
    "from QAOAKit.utils import (\n",
    "    get_full_weighted_qaoa_dataset_table, \n",
    ")  \n",
    "\n",
    "p = 2\n",
    "\n",
    "df = get_full_weighted_qaoa_dataset_table()\n",
    "df = df[(df['n']==8) & (df['p_max'] == p) & (df['Weight distribution'] == 'neg_uniform')].head(50)"
   ]
  },
  {
   "cell_type": "code",
   "execution_count": 3,
   "id": "central-morrison",
   "metadata": {},
   "outputs": [
    {
     "name": "stderr",
     "output_type": "stream",
     "text": [
      "100%|██████████████████████████████████████████████████████████████████████████████████████████| 50/50 [00:01<00:00, 31.02it/s]\n"
     ]
    }
   ],
   "source": [
    "# Optional: verify that the results in the dataset are correct (this may take a few minutes)\n",
    "\n",
    "df['Energy reproduced'] = df.progress_apply(\n",
    "    lambda row: qaoa_maxcut_energy(\n",
    "            row[\"G\"],\n",
    "            beta_to_qaoa_format(row[\"beta\"]),\n",
    "            gamma_to_qaoa_format(row[\"gamma\"]),\n",
    "        ), axis = 1\n",
    ")\n",
    "\n",
    "assert(np.allclose(df['Energy reproduced'], df['C_opt']))"
   ]
  },
  {
   "cell_type": "markdown",
   "id": "activated-syndrome",
   "metadata": {},
   "source": [
    "# Step 1: load parameters to transfer\n",
    "\n",
    "Following the methodology of \"Parameter Transfer for Quantum Approximate Optimization of Weighted MaxCut\", we transfer rescaled median (over all non-isomprphic 9-node graphs) parameters. These are pre-computed and can be loaded directly. We also load the pre-trained generative model (KDE), which we will use later."
   ]
  },
  {
   "cell_type": "code",
   "execution_count": 4,
   "id": "serious-above",
   "metadata": {},
   "outputs": [],
   "source": [
    "from QAOAKit.parameter_optimization import get_median_pre_trained_kde\n",
    "\n",
    "median, kde = get_median_pre_trained_kde(p) "
   ]
  },
  {
   "cell_type": "markdown",
   "id": "tribal-warner",
   "metadata": {},
   "source": [
    "# Step 2: transfer\n",
    "\n",
    "Let's start by transferring to just one graph\n",
    "\n",
    "Recall that the formula is given by\n",
    "$$\\beta_{w} = \\beta_{\\text{median}}^S$$\n",
    "$$\\gamma_{w} =  \\gamma_{\\text{median}}^S\\frac{\\arctan(\\frac{1}{\\sqrt{d_w-1}})}{\\overline{\\left| w \\right|}}$$\n",
    "where $d_w$ is the average degree and $\\overline{\\left| w \\right|}$ is the average edge weight of the weighted graph to which the median parameters are being transferred"
   ]
  },
  {
   "cell_type": "code",
   "execution_count": 5,
   "id": "english-arthritis",
   "metadata": {},
   "outputs": [],
   "source": [
    "G = df.iloc[1][\"G\"]\n",
    "d_w = df.iloc[1]['average degree']\n",
    "w = df.iloc[1]['mean(abs(weight))']\n",
    "energy_with_directly_optimized_parameters = df.iloc[1]['C_opt']\n",
    "energy_with_transferred_parameters = qaoa_maxcut_energy(\n",
    "    G, \n",
    "    beta_to_qaoa_format(median[p:]), \n",
    "    gamma_to_qaoa_format(median[:p] * np.arctan(1/np.sqrt(d_w-1)) / w)\n",
    ")\n",
    "optimal_energy = df.iloc[1]['C_{true opt}']\n",
    "minimal_energy = df.iloc[1]['C_{true min}']"
   ]
  },
  {
   "cell_type": "code",
   "execution_count": 6,
   "id": "distributed-syria",
   "metadata": {},
   "outputs": [
    {
     "name": "stdout",
     "output_type": "stream",
     "text": [
      "Energy with transferred parameters: 6.972682143555524\n",
      "Energy with directly optimized parameters: 7.1411107476\n",
      "Approximation ratio with median parameters: 0.790434355548791\n",
      "Approximation ratio with optimized parameters: 0.807156983677108\n"
     ]
    }
   ],
   "source": [
    "print(f\"Energy with transferred parameters: {energy_with_transferred_parameters}\")\n",
    "print(f\"Energy with directly optimized parameters: {energy_with_directly_optimized_parameters}\")\n",
    "\n",
    "r_transf = (energy_with_transferred_parameters - minimal_energy) / (optimal_energy - minimal_energy)\n",
    "print(f\"\"\"Approximation ratio with median parameters: {r_transf}\"\"\")\n",
    "r_opt = (energy_with_directly_optimized_parameters - minimal_energy) / (optimal_energy - minimal_energy)\n",
    "print(f\"\"\"Approximation ratio with optimized parameters: {r_opt}\"\"\")"
   ]
  },
  {
   "cell_type": "code",
   "execution_count": 7,
   "id": "nominated-proxy",
   "metadata": {},
   "outputs": [
    {
     "name": "stdout",
     "output_type": "stream",
     "text": [
      "Approximation ratio gap between transferred and optimized: 1.67 p.p.\n"
     ]
    }
   ],
   "source": [
    "print(f\"Approximation ratio gap between transferred and optimized: {(r_opt-r_transf)*100:.2f} p.p.\")"
   ]
  },
  {
   "cell_type": "markdown",
   "id": "technical-antenna",
   "metadata": {},
   "source": [
    "The approximation ratio with transferred parameters is only 1.7 percentage point lower!"
   ]
  },
  {
   "cell_type": "markdown",
   "id": "earlier-incentive",
   "metadata": {},
   "source": [
    "### Leveraging pre-trained generative model\n",
    "\n",
    "We can further reduce the gap by using the pre-trained Kernel Density Estimation model. We sample 10 parameters from it in addition to the median, and pick the best result."
   ]
  },
  {
   "cell_type": "code",
   "execution_count": 8,
   "id": "regulation-offset",
   "metadata": {},
   "outputs": [
    {
     "name": "stdout",
     "output_type": "stream",
     "text": [
      "Approximation ratio with KDE parameters: 0.7975563371859917, gap between KDE and optimized: 0.96 p.p.\n"
     ]
    }
   ],
   "source": [
    "sampled_params = kde.sample(10, random_state=0)\n",
    "parameters = np.vstack([np.atleast_2d(median), sampled_params])\n",
    "\n",
    "energy_with_KDE_parameters = max([                                           \n",
    "    qaoa_maxcut_energy(\n",
    "        G,\n",
    "        beta_to_qaoa_format(parameter[p:]),\n",
    "        gamma_to_qaoa_format(parameter[:p] * np.arctan(1/np.sqrt(d_w-1))) / w\n",
    "    ) for parameter in parameters\n",
    "])\n",
    "r_kde = (energy_with_KDE_parameters - minimal_energy) / (optimal_energy - minimal_energy)\n",
    "print(f\"Approximation ratio with KDE parameters: {r_kde}, gap between KDE and optimized: {(r_opt-r_kde)*100:.2f} p.p.\")"
   ]
  },
  {
   "cell_type": "markdown",
   "id": "extended-deviation",
   "metadata": {},
   "source": [
    "The gap between directly optimized and transferred parameters is now only 1 percentage point!"
   ]
  },
  {
   "cell_type": "markdown",
   "id": "retired-format",
   "metadata": {},
   "source": [
    "## Did we get lucky?\n",
    "\n",
    "Let's see if this holds for all 50 graphs in our dataset"
   ]
  },
  {
   "cell_type": "code",
   "execution_count": 9,
   "id": "short-theology",
   "metadata": {},
   "outputs": [
    {
     "name": "stderr",
     "output_type": "stream",
     "text": [
      "100%|██████████████████████████████████████████████████████████████████████████████████████████| 50/50 [00:01<00:00, 36.94it/s]\n"
     ]
    }
   ],
   "source": [
    "df['QAOA approximatio ratio with transferred parameters'] = df.progress_apply(\n",
    "    lambda row: (qaoa_maxcut_energy(\n",
    "        row['G'], \n",
    "        beta_to_qaoa_format(median[p:]), \n",
    "        gamma_to_qaoa_format(median[:p]  * np.arctan(1/np.sqrt(row['average degree']-1))) / row['mean(abs(weight))']\n",
    "    ) - row['C_{true min}']) / (row['C_{true opt}'] - row['C_{true min}']), axis=1\n",
    ")\n",
    "\n",
    "df[\n",
    "    'QAOA approximatio ratio with directly optimized parameters'\n",
    "] = (df['C_opt'] - df['C_{true min}']) / (df['C_{true opt}'] - df['C_{true min}'])"
   ]
  },
  {
   "cell_type": "code",
   "execution_count": 10,
   "id": "lovely-holly",
   "metadata": {},
   "outputs": [
    {
     "name": "stdout",
     "output_type": "stream",
     "text": [
      "The decrease in approximation ratio from using only transferred median parameters is 3.1 percentage points\n"
     ]
    }
   ],
   "source": [
    "df['gap'] = df['QAOA approximatio ratio with directly optimized parameters'] - df['QAOA approximatio ratio with transferred parameters']\n",
    "\n",
    "\n",
    "print(f\"\"\"The decrease in approximation ratio from using only transferred median parameters is {\n",
    "    df['gap'].median() * 100:.1f} percentage points\"\"\")"
   ]
  },
  {
   "cell_type": "markdown",
   "id": "systematic-shame",
   "metadata": {},
   "source": [
    "The transfer works well on all our graphs!"
   ]
  },
  {
   "cell_type": "code",
   "execution_count": null,
   "id": "vulnerable-phrase",
   "metadata": {},
   "outputs": [],
   "source": []
  }
 ],
 "metadata": {
  "kernelspec": {
   "display_name": "Python 3 (ipykernel)",
   "language": "python",
   "name": "python3"
  },
  "language_info": {
   "codemirror_mode": {
    "name": "ipython",
    "version": 3
   },
   "file_extension": ".py",
   "mimetype": "text/x-python",
   "name": "python",
   "nbconvert_exporter": "python",
   "pygments_lexer": "ipython3",
   "version": "3.8.12"
  }
 },
 "nbformat": 4,
 "nbformat_minor": 5
}
