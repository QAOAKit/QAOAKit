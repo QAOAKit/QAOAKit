{
 "cells": [
  {
   "cell_type": "code",
   "execution_count": 1,
   "id": "21a44e3e",
   "metadata": {},
   "outputs": [],
   "source": [
    "import numpy as np\n",
    "import networkx as nx\n",
    "\n",
    "import matplotlib as mpl\n",
    "\n",
    "from matplotlib import rc\n",
    "rc('font',**{'family':'serif','serif':['Times']})\n",
    "rc('text', usetex=True)\n",
    "\n",
    "import matplotlib.pyplot as plt\n",
    "# plt.rcParams.update({'font.size': 30})\n",
    "from QAOAKit import get_full_qaoa_dataset_table\n",
    "import pandas as pd\n",
    "pd.options.mode.chained_assignment = None \n"
   ]
  },
  {
   "cell_type": "markdown",
   "id": "primary-nightlife",
   "metadata": {},
   "source": [
    "First, filter out only the regular graphs"
   ]
  },
  {
   "cell_type": "code",
   "execution_count": 2,
   "id": "recognized-provision",
   "metadata": {},
   "outputs": [],
   "source": [
    "df = get_full_qaoa_dataset_table().reset_index()\n",
    "\n",
    "# keep only regular graphs\n",
    "\n",
    "df = df[df.apply(lambda row: nx.is_regular(row['G']), axis=1)]\n",
    "\n",
    "# compute regularity\n",
    "\n",
    "df['k'] = df.apply(lambda row: row['G'].degree[0], axis=1)\n",
    "\n",
    "# separate even and odd graphs\n",
    "\n",
    "df_even_only=df[df.apply(lambda row: row['k']%2==0, axis=1)]\n",
    "\n",
    "df_odd_only=df[df.apply(lambda row: row['k']%2==1, axis=1)]"
   ]
  },
  {
   "cell_type": "markdown",
   "id": "israeli-retail",
   "metadata": {},
   "source": [
    "Check what we got:"
   ]
  },
  {
   "cell_type": "code",
   "execution_count": 3,
   "id": "phantom-polish",
   "metadata": {},
   "outputs": [
    {
     "name": "stdout",
     "output_type": "stream",
     "text": [
      "Found 21 2-regular graphs\n",
      "Found 24 3-regular graphs\n",
      "Found 78 4-regular graphs\n",
      "Found 12 5-regular graphs\n",
      "Found 18 6-regular graphs\n",
      "Found 3 7-regular graphs\n",
      "Found 3 8-regular graphs\n",
      "even-degree regular graphs: 120\n",
      "odd-degree regular graphs: 39\n"
     ]
    }
   ],
   "source": [
    "for degree in set(df['k']):\n",
    "    print(f\"Found {len(df[df['k'] == degree])} {degree}-regular graphs\")\n",
    "print('even-degree regular graphs:',len(df_even_only))\n",
    "print('odd-degree regular graphs:',len(df_odd_only))"
   ]
  },
  {
   "cell_type": "markdown",
   "id": "residential-plenty",
   "metadata": {},
   "source": [
    "### Computing symmetries and plotting"
   ]
  },
  {
   "cell_type": "markdown",
   "id": "rational-joyce",
   "metadata": {},
   "source": [
    "Define a simple function that generates the symmetrical angles"
   ]
  },
  {
   "cell_type": "code",
   "execution_count": 4,
   "id": "another-legislature",
   "metadata": {},
   "outputs": [],
   "source": [
    "def generate_symmetric_angles(gamma,beta,symmetry):\n",
    "    \n",
    "    #assumes p=1\n",
    "    \n",
    "    if symmetry == 'even':\n",
    "        #even symmetry angles, time reversal, even + time reversal\n",
    "        return np.array(gamma)+1.0, np.array(beta),-np.array(gamma), -np.array(beta),-np.array(gamma)-1.0, -np.array(beta)\n",
    "    elif symmetry == 'odd':\n",
    "        #even symmetry angles, time reversal, odd + time reversal\n",
    "        return np.array(gamma)+1.0, -np.array(beta),-np.array(gamma), -np.array(beta),-np.array(gamma)-1.0, np.array(beta)\n",
    "    else:\n",
    "        raise ValueError(f\"Unknown symmetry: {symmetry}\")"
   ]
  },
  {
   "cell_type": "markdown",
   "id": "least-october",
   "metadata": {},
   "source": [
    "Apply it on all graphs in the dataframe:"
   ]
  },
  {
   "cell_type": "code",
   "execution_count": 5,
   "id": "emerging-school",
   "metadata": {},
   "outputs": [],
   "source": [
    "\n",
    "df_even_only[['gamma even', 'beta even','gamma time reversed', 'beta time reversed',\n",
    "    'gamma even+time reversed', 'beta even+time reversed']] = df_even_only.apply(\n",
    "    lambda row: generate_symmetric_angles(row['gamma'],row['beta'],'even'),\n",
    "    axis = 1,\n",
    "    result_type=\"expand\",\n",
    ")\n",
    "df_odd_only[['gamma odd', 'beta odd','gamma time reversed', 'beta time reversed',\n",
    "    'gamma odd+time reversed', 'beta odd+time reversed']] = df_odd_only.apply(\n",
    "    lambda row: generate_symmetric_angles(row['gamma'],row['beta'],'odd'),\n",
    "    axis = 1,\n",
    "    result_type=\"expand\",\n",
    ")"
   ]
  },
  {
   "cell_type": "markdown",
   "id": "growing-limit",
   "metadata": {},
   "source": [
    "Now plot the angles for `p=1`"
   ]
  },
  {
   "cell_type": "code",
   "execution_count": 6,
   "id": "molecular-parts",
   "metadata": {
    "scrolled": true
   },
   "outputs": [],
   "source": [
    "# stack beta and gamma together into one vector\n",
    "\n",
    "df_even_only['theta'] = df_even_only.apply(lambda row: np.hstack([row['beta'], row['gamma']]), axis=1)\n",
    "df_even_only['theta even'] = df_even_only.apply(lambda row: np.hstack([row['beta even'], row['gamma even']]), axis=1)\n",
    "df_even_only['theta time reversed'] = df_even_only.apply(lambda row: np.hstack([row['beta time reversed'], row['gamma time reversed']]), axis=1)\n",
    "df_even_only['theta even+time reversed'] = df_even_only.apply(lambda row: np.hstack([row['beta even+time reversed'], row['gamma even+time reversed']]), axis=1)\n",
    "\n",
    "\n",
    "df_odd_only['theta'] = df_odd_only.apply(lambda row: np.hstack([row['beta'], row['gamma']]), axis=1)\n",
    "df_odd_only['theta odd'] = df_odd_only.apply(lambda row: np.hstack([row['beta odd'], row['gamma odd']]), axis=1)\n",
    "df_odd_only['theta time reversed'] = df_odd_only.apply(lambda row: np.hstack([row['beta time reversed'], row['gamma time reversed']]), axis=1)\n",
    "df_odd_only['theta odd+time reversed'] = df_odd_only.apply(lambda row: np.hstack([row['beta odd+time reversed'], row['gamma odd+time reversed']]), axis=1)\n"
   ]
  },
  {
   "cell_type": "code",
   "execution_count": 7,
   "id": "exciting-astrology",
   "metadata": {},
   "outputs": [],
   "source": [
    "# get the angles into numpy format\n",
    "\n",
    "#original data for even-degree k-regular\n",
    "data_even = df_even_only[df_even_only['p_max'] == 1]['theta'].values\n",
    "\n",
    "#even-degree symmetry on even data\n",
    "data_even_even_sym = df_even_only[df_even_only['p_max'] == 1]['theta even'].values\n",
    "\n",
    "#time-reversal symmetry on even data\n",
    "data_even_time_reversed = df_even_only[df_even_only['p_max'] == 1]['theta time reversed'].values\n",
    "\n",
    "#time-reversal + even symmetry on even data\n",
    "data_even_time_reversed_even_sym = df_even_only[df_even_only['p_max'] == 1]['theta even+time reversed'].values\n",
    "\n",
    "#same for the odds\n",
    "data_odd = df_odd_only[df_odd_only['p_max'] == 1]['theta'].values\n",
    "data_odd_odd_sym = df_odd_only[df_odd_only['p_max'] == 1]['theta odd'].values\n",
    "data_odd_time_reversed = df_odd_only[df_odd_only['p_max'] == 1]['theta time reversed'].values\n",
    "data_odd_time_reversed_odd_sym = df_odd_only[df_odd_only['p_max'] == 1]['theta odd+time reversed'].values\n"
   ]
  },
  {
   "cell_type": "markdown",
   "id": "received-image",
   "metadata": {},
   "source": [
    "Plot the datasets with varying symmetries.  Colors are added in the background to emphasize the symmetry-related regions in parameter space."
   ]
  },
  {
   "cell_type": "code",
   "execution_count": 8,
   "id": "dress-update",
   "metadata": {},
   "outputs": [
    {
     "data": {
      "image/png": "[encoded data removed]",
      "text/plain": [
       "<Figure size 124.678x124.678 with 1 Axes>"
      ]
     },
     "metadata": {
      "needs_background": "light"
     },
     "output_type": "display_data"
    },
    {
     "data": {
      "image/png": "[encoded data removed]",
      "text/plain": [
       "<Figure size 124.678x124.678 with 1 Axes>"
      ]
     },
     "metadata": {
      "needs_background": "light"
     },
     "output_type": "display_data"
    },
    {
     "data": {
      "image/png": "[encoded data removed]",
      "text/plain": [
       "<Figure size 124.678x124.678 with 1 Axes>"
      ]
     },
     "metadata": {
      "needs_background": "light"
     },
     "output_type": "display_data"
    },
    {
     "data": {
      "image/png": "[encoded data removed]",
      "text/plain": [
       "<Figure size 124.678x124.678 with 1 Axes>"
      ]
     },
     "metadata": {
      "needs_background": "light"
     },
     "output_type": "display_data"
    }
   ],
   "source": [
    "import seaborn as sns\n",
    "\n",
    "def generate_plot(dataset,Symmetry1,Symmetry2):\n",
    "    #make a plot with the given symmetries indicated in color\n",
    "    #Symmetry1 = 'even', 'odd', or 'time-reversal'\n",
    "    #Symmetry2 = '' for a single symmetry only, 'time-reversal' for two symmetries\n",
    "    fig, ax = plt.subplots(figsize=(6.92654/4, 6.92654/4))\n",
    "    palette = sns.color_palette(\"viridis\",4)\n",
    "    if dataset=='even':\n",
    "        to_plot = np.stack(data_even)\n",
    "    elif dataset=='odd':\n",
    "        to_plot = np.stack(data_odd)\n",
    "    ax.scatter(to_plot[:,0], to_plot[:,1], s=16, edgecolors='None',color='k')\n",
    "    \n",
    "    # color boxes and data for even symmetry\n",
    "    \n",
    "    if Symmetry1 == 'even':\n",
    "        to_plot = np.stack(data_even_even_sym)\n",
    "        ax.scatter(to_plot[:,0],to_plot[:,1],s=16,edgecolors='None',color='k')\n",
    "        ax.axhspan(ymin=-1, ymax=-0.5, xmin=0,xmax=0.5,facecolor=palette[0], alpha=0.6)\n",
    "        ax.axhspan(ymin=-0.5, ymax=0, xmin=0,xmax=0.5,facecolor=palette[2], alpha=0.4)\n",
    "        ax.axhspan(ymin=0, ymax=0.5, xmin=0,xmax=0.5,facecolor=palette[0], alpha=0.6)\n",
    "        ax.axhspan(ymin=0.5, ymax=1, xmin=0,xmax=0.5,facecolor=palette[2], alpha=0.4)\n",
    "        ax.axhspan(ymin=-1, ymax=-0.5, xmin=0.5,xmax=1.0,facecolor=palette[1], alpha=0.3)\n",
    "        ax.axhspan(ymin=-0.5, ymax=0, xmin=0.5,xmax=1.0,facecolor=palette[3], alpha=0.3)\n",
    "        ax.axhspan(ymin=0, ymax=0.5, xmin=0.5,xmax=1.0,facecolor=palette[1], alpha=0.3)\n",
    "        ax.axhspan(ymin=0.5, ymax=1, xmin=0.5,xmax=1.0,facecolor=palette[3], alpha=0.3)\n",
    "        \n",
    "    # color boxes and data for odd symmetry\n",
    "    \n",
    "    if Symmetry1 == 'odd':\n",
    "        to_plot = np.stack(data_odd_odd_sym)\n",
    "        ax.scatter(to_plot[:,0],to_plot[:,1],s=16,edgecolors='None',color='k')\n",
    "        ax.axhspan(ymin=-1, ymax=-0.5, xmin=0,xmax=0.5,facecolor=palette[0], alpha=0.6)\n",
    "        ax.axhspan(ymin=-0.5, ymax=0, xmin=0,xmax=0.5,facecolor=palette[2], alpha=0.4)\n",
    "        ax.axhspan(ymin=0, ymax=0.5, xmin=0,xmax=0.5,facecolor=palette[1], alpha=0.3)\n",
    "        ax.axhspan(ymin=0.5, ymax=1, xmin=0,xmax=0.5,facecolor=palette[3], alpha=0.3)\n",
    "        ax.axhspan(ymin=-1, ymax=-0.5, xmin=0.5,xmax=1.0,facecolor=palette[1], alpha=0.3)\n",
    "        ax.axhspan(ymin=-0.5, ymax=0, xmin=0.5,xmax=1.0,facecolor=palette[3], alpha=0.3)\n",
    "        ax.axhspan(ymin=0, ymax=0.5, xmin=0.5,xmax=1.0,facecolor=palette[0], alpha=0.6)\n",
    "        ax.axhspan(ymin=0.5, ymax=1, xmin=0.5,xmax=1.0,facecolor=palette[2], alpha=0.4)\n",
    "    \n",
    "    # color boxes and data for odd symmetry\n",
    "    \n",
    "    if Symmetry1 == 'time-reversal':\n",
    "        #assumes we have are using the data even dataset\n",
    "        if dataset=='even':\n",
    "            to_plot = np.stack(data_even_time_reversed)\n",
    "        elif dataset=='odd':\n",
    "            to_plot = np.stack(data_odd_time_reversed)\n",
    "        ax.scatter(to_plot[:,0],to_plot[:,1],s=16,edgecolors='None',color='k')\n",
    "        ax.axhspan(ymin=-1, ymax=0, xmin=0,xmax=0.5,facecolor='gray', alpha=0.3)\n",
    "        ax.axhspan(ymin=0, ymax=1, xmin=0.5,xmax=1,facecolor='gray', alpha=0.3)\n",
    "        \n",
    "    # add data for time-reversal if the first symmetry is even or odd\n",
    "    \n",
    "    if Symmetry2=='time-reversal':\n",
    "        if Symmetry1=='even':\n",
    "            to_plot = np.stack(np.hstack([data_even_time_reversed,data_even_time_reversed_even_sym]))\n",
    "        elif Symmetry1=='odd':\n",
    "            to_plot = np.stack(np.hstack([data_odd_time_reversed,data_odd_time_reversed_odd_sym]))\n",
    "        ax.scatter(to_plot[:,0],to_plot[:,1],s=16,edgecolors='None',color='k')            \n",
    "        \n",
    "    #label [Gamma,Beta] parameter space\n",
    "    \n",
    "    plt.arrow(-0.25,-0.5,0.25,0,head_length=0,lw=2)\n",
    "    plt.arrow(-0.25,0.0,0.25,0,head_length=0,lw=2)\n",
    "    plt.arrow(0,-0.5,0,0.5,head_length=0,lw=2)\n",
    "    plt.arrow(-0.25,-0.50,0,0.5,head_length=0,lw=2)\n",
    "    ax.text(-0.25, -0.425, '$(\\Gamma$,B)') #  ,fontsize=15\n",
    "    \n",
    "    #axis labels and limits\n",
    "    \n",
    "    plt.xlabel('$\\\\beta/\\\\pi$')\n",
    "    plt.ylabel('$\\\\gamma/\\\\pi$')\n",
    "    plt.xlim(-0.25,0.25)\n",
    "    plt.ylim(-1,1)\n",
    "    plt.savefig('p=1_'+Symmetry1+Symmetry2+'.pdf',bbox_inches='tight')\n",
    "\n",
    "for symmetry1, symmetry2 in [\n",
    "    ('even', ''),\n",
    "    ('time-reversal', ''),\n",
    "    ('even', 'time-reversal'),\n",
    "    ('odd', 'time-reversal'),\n",
    "]:\n",
    "    generate_plot('even', symmetry1, symmetry2)\n",
    "\n"
   ]
  },
  {
   "cell_type": "code",
   "execution_count": null,
   "id": "05bb11e4",
   "metadata": {},
   "outputs": [],
   "source": []
  }
 ],
 "metadata": {
  "kernelspec": {
   "display_name": "Python 3",
   "language": "python",
   "name": "python3"
  },
  "language_info": {
   "codemirror_mode": {
    "name": "ipython",
    "version": 3
   },
   "file_extension": ".py",
   "mimetype": "text/x-python",
   "name": "python",
   "nbconvert_exporter": "python",
   "pygments_lexer": "ipython3",
   "version": "3.8.8"
  }
 },
 "nbformat": 4,
 "nbformat_minor": 5
}
