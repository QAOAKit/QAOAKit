{
 "cells": [
  {
   "cell_type": "markdown",
   "id": "least-spell",
   "metadata": {},
   "source": [
    "# Notebook with the code used to create the slide \"A reproducibility detour\" for the talk at the 2nd International Workshop on Quantum Computing Software (in conjunction with Supercomputing ’21)\n",
    "\n",
    "Parameters from https://arxiv.org/abs/2107.00677"
   ]
  },
  {
   "cell_type": "code",
   "execution_count": 1,
   "id": "strategic-agenda",
   "metadata": {},
   "outputs": [],
   "source": [
    "import networkx as nx\n",
    "import numpy as np\n",
    "from functools import partial\n",
    "\n",
    "from qiskit_optimization import QuadraticProgram\n",
    "from qiskit_optimization.algorithms import MinimumEigenOptimizer\n",
    "\n",
    "from qiskit.providers.aer import AerSimulator\n",
    "from qiskit.algorithms.minimum_eigen_solvers.qaoa import QAOAAnsatz\n",
    "from qiskit.algorithms.optimizers import SPSA\n",
    "\n",
    "\n",
    "from QAOAKit.utils import brute_force"
   ]
  },
  {
   "cell_type": "code",
   "execution_count": 2,
   "id": "naval-manual",
   "metadata": {},
   "outputs": [],
   "source": [
    "p = 11\n",
    "beta = [\n",
    "        0.6564387949836022,\n",
    "        0.5633471282117171,\n",
    "        0.5163014280756274,\n",
    "        0.5036682504396424,\n",
    "        0.4818229959468761,\n",
    "        0.45601255796623946,\n",
    "        0.421434626428442,\n",
    "        0.3707732712794268,\n",
    "        0.27645017426067187,\n",
    "        0.20094698054318946,\n",
    "        0.10725070156301893\n",
    "      ]\n",
    "gamma = [\n",
    "        0.257287401304126,\n",
    "        0.5280405724278872,\n",
    "        0.5917709544691275,\n",
    "        0.6396914913796506,\n",
    "        0.6772056138057753,\n",
    "        0.7020614534590051,\n",
    "        0.7370242568081657,\n",
    "        0.7753074973682114,\n",
    "        0.8835587304543469,\n",
    "        1.046970255431072,\n",
    "        1.1152377164688672\n",
    "      ]\n",
    "\n",
    "# Generate a graph\n",
    "n = 10\n",
    "graph = nx.random_regular_graph(3,n, seed=42)"
   ]
  },
  {
   "cell_type": "code",
   "execution_count": 3,
   "id": "fatty-flash",
   "metadata": {},
   "outputs": [],
   "source": [
    "def cut(x, G):\n",
    "    cut = 0\n",
    "    for u,v in G.edges():\n",
    "        if x[u] != x[v]:\n",
    "            cut += 1\n",
    "    return cut"
   ]
  },
  {
   "cell_type": "code",
   "execution_count": 4,
   "id": "sapphire-jesus",
   "metadata": {},
   "outputs": [],
   "source": [
    "# Compute the weight matrix from the graph\n",
    "w = nx.adjacency_matrix(graph)\n",
    "\n",
    "# Formulate the problem as quadratic program\n",
    "problem = QuadraticProgram()\n",
    "_ = [problem.binary_var(f\"x{i}\") for i in range(n)]  # create n binary variables\n",
    "linear = w.dot(np.ones(n))\n",
    "quadratic = -w\n",
    "problem.maximize(linear=linear, quadratic=quadratic)\n",
    "obj = partial(cut, G=graph)"
   ]
  },
  {
   "cell_type": "code",
   "execution_count": 5,
   "id": "isolated-highland",
   "metadata": {},
   "outputs": [
    {
     "name": "stdout",
     "output_type": "stream",
     "text": [
      "Expected cut: 0.755859375\n",
      "True optimum: 13\n",
      "Ratio: 0.05814302884615385\n"
     ]
    }
   ],
   "source": [
    "def angles_to_qiskit_ordering(beta, gamma):\n",
    "    return np.concatenate(\n",
    "        [[g, b] for g, b in zip(gamma, beta)]\n",
    "    )\n",
    "\n",
    "# Get circuit\n",
    "C, offset = problem.to_ising()\n",
    "ansatz = QAOAAnsatz(C, p).decompose()\n",
    "qc = ansatz.bind_parameters(angles_to_qiskit_ordering(beta, gamma))\n",
    "qc.measure_all()\n",
    "\n",
    "# run circuit\n",
    "backend = AerSimulator()\n",
    "counts = backend.run(qc).result().get_counts()\n",
    "\n",
    "exp = 0\n",
    "total_count = 0\n",
    "for k, v in counts.items():\n",
    "    exp += obj(k[::-1]) * v\n",
    "    total_count += v\n",
    "    \n",
    "exp /= total_count\n",
    "\n",
    "true_opt = brute_force(obj, n)[0]\n",
    "print(f\"Expected cut: {exp}\\nTrue optimum: {true_opt}\\nRatio: {exp / true_opt}\")"
   ]
  },
  {
   "cell_type": "code",
   "execution_count": 6,
   "id": "imposed-enemy",
   "metadata": {},
   "outputs": [],
   "source": [
    "# Compute the weight matrix from the graph\n",
    "w = nx.adjacency_matrix(graph, nodelist=range(10))\n",
    "\n",
    "# Formulate the problem as quadratic program\n",
    "problem = QuadraticProgram()\n",
    "_ = [problem.binary_var(f\"x{i}\") for i in range(n)]  # create n binary variables\n",
    "linear = w.dot(np.ones(n))\n",
    "quadratic = -w\n",
    "problem.maximize(linear=linear, quadratic=quadratic)\n",
    "obj = partial(cut, G=graph)"
   ]
  },
  {
   "cell_type": "code",
   "execution_count": 7,
   "id": "intended-explorer",
   "metadata": {},
   "outputs": [
    {
     "name": "stdout",
     "output_type": "stream",
     "text": [
      "Expected cut: 0.359375\n",
      "True optimum: 13\n",
      "Ratio: 0.027644230769230768\n"
     ]
    }
   ],
   "source": [
    "def angles_to_qiskit_ordering(beta, gamma):\n",
    "    return np.concatenate(\n",
    "        [[g, b] for g, b in zip(gamma, beta)]\n",
    "    )\n",
    "\n",
    "# Get circuit\n",
    "C, offset = problem.to_ising()\n",
    "ansatz = QAOAAnsatz(C, p).decompose()\n",
    "qc = ansatz.bind_parameters(angles_to_qiskit_ordering(beta, gamma))\n",
    "qc.measure_all()\n",
    "\n",
    "# run circuit\n",
    "backend = AerSimulator()\n",
    "counts = backend.run(qc).result().get_counts()\n",
    "\n",
    "exp = 0\n",
    "total_count = 0\n",
    "for k, v in counts.items():\n",
    "    exp += obj(k[::-1]) * v\n",
    "    total_count += v\n",
    "    \n",
    "exp /= total_count\n",
    "\n",
    "true_opt = brute_force(obj, n)[0]\n",
    "print(f\"Expected cut: {exp}\\nTrue optimum: {true_opt}\\nRatio: {exp / true_opt}\")"
   ]
  },
  {
   "cell_type": "code",
   "execution_count": 8,
   "id": "fitted-strength",
   "metadata": {},
   "outputs": [
    {
     "name": "stdout",
     "output_type": "stream",
     "text": [
      "Expected cut: 12.767578125\n",
      "True optimum: 13\n",
      "Ratio: 0.9821213942307693\n"
     ]
    }
   ],
   "source": [
    "def angles_to_qiskit_ordering(beta, gamma):\n",
    "    return np.concatenate(\n",
    "        [[-g, b] for g, b in zip(gamma, beta)]\n",
    "    )\n",
    "\n",
    "# Get circuit\n",
    "C, offset = problem.to_ising()\n",
    "ansatz = QAOAAnsatz(C, p).decompose()\n",
    "qc = ansatz.bind_parameters(angles_to_qiskit_ordering(beta, gamma))\n",
    "qc.measure_all()\n",
    "\n",
    "# run circuit\n",
    "backend = AerSimulator()\n",
    "counts = backend.run(qc).result().get_counts()\n",
    "\n",
    "exp = 0\n",
    "total_count = 0\n",
    "for k, v in counts.items():\n",
    "    exp += obj(k[::-1]) * v\n",
    "    total_count += v\n",
    "    \n",
    "exp /= total_count\n",
    "\n",
    "true_opt = brute_force(obj, n)[0]\n",
    "print(f\"Expected cut: {exp}\\nTrue optimum: {true_opt}\\nRatio: {exp / true_opt}\")"
   ]
  }
 ],
 "metadata": {
  "kernelspec": {
   "display_name": "Python 3",
   "language": "python",
   "name": "python3"
  },
  "language_info": {
   "codemirror_mode": {
    "name": "ipython",
    "version": 3
   },
   "file_extension": ".py",
   "mimetype": "text/x-python",
   "name": "python",
   "nbconvert_exporter": "python",
   "pygments_lexer": "ipython3",
   "version": "3.8.8"
  }
 },
 "nbformat": 4,
 "nbformat_minor": 5
}
