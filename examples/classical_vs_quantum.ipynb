{
 "cells": [
  {
   "cell_type": "markdown",
   "id": "close-stranger",
   "metadata": {},
   "source": [
    "# Comparing the performance of QAOA with classical algorithms for MaxCut\n",
    "\n",
    "MaxCut has been extensively studied, with multiple classical algorithms available. QAOAKit includes an implementation of a recent explicit vector algorithm for high-girth MaxCut (https://scirate.com/arxiv/2108.12477), as well as a wrapper around Goemans-Williamson implementation in Qiskit.\n",
    "\n",
    "We can compare the performance of these algorithms with QAOA on 3-regular graphs. Available Goemans-Williamson implementation does not return the expected cut, so we will compute the expectation as the average cut from a sample."
   ]
  },
  {
   "cell_type": "code",
   "execution_count": 1,
   "id": "beginning-plastic",
   "metadata": {},
   "outputs": [],
   "source": [
    "import numpy as np\n",
    "import pandas as pd\n",
    "pd.options.mode.chained_assignment = None  # default='warn'\n",
    "from functools import partial\n",
    "from tqdm import tqdm\n",
    "tqdm.pandas()\n",
    "\n",
    "from QAOAKit import get_3_reg_dataset_table\n",
    "from QAOAKit.utils import (\n",
    "    maxcut_obj,\n",
    "    get_adjacency_matrix,\n",
    ")\n",
    "\n",
    "# classical methods\n",
    "from QAOAKit.classical import thompson_parekh_marwaha\n",
    "from QAOAKit.qiskit_interface import goemans_williamson\n",
    "\n",
    "def GW_expected(G):\n",
    "    obj = partial(maxcut_obj, w=get_adjacency_matrix(G))\n",
    "    soln = goemans_williamson(G, nsamples=1000)\n",
    "    return np.mean([obj(x) for x in soln])"
   ]
  },
  {
   "cell_type": "markdown",
   "id": "electoral-battle",
   "metadata": {},
   "source": [
    "We will consider all non-isomorphic 3-regular graphs"
   ]
  },
  {
   "cell_type": "code",
   "execution_count": 2,
   "id": "waiting-edward",
   "metadata": {},
   "outputs": [
    {
     "name": "stderr",
     "output_type": "stream",
     "text": [
      "100%|██████████| 4681/4681 [04:06<00:00, 18.98it/s]\n"
     ]
    }
   ],
   "source": [
    "df = get_3_reg_dataset_table().reset_index()\n",
    "\n",
    "# only need to compute classical solution once per graph\n",
    "df_classical = df[df['p_max'] == 1]\n",
    "\n",
    "df_classical['C_{GW}'] = df_classical.progress_apply(lambda row: GW_expected(row['G']), axis=1)"
   ]
  },
  {
   "cell_type": "code",
   "execution_count": 3,
   "id": "qualified-crowd",
   "metadata": {},
   "outputs": [
    {
     "name": "stderr",
     "output_type": "stream",
     "text": [
      "100%|██████████| 4681/4681 [00:48<00:00, 95.81it/s]\n"
     ]
    }
   ],
   "source": [
    "df_classical['C_{TPM}'] = df_classical.progress_apply(lambda row: thompson_parekh_marwaha(row['G'], nsamples=1)[1] * row['G'].number_of_edges(), axis=1)"
   ]
  },
  {
   "cell_type": "markdown",
   "id": "under-minutes",
   "metadata": {},
   "source": [
    "Let's merge this with results for higher values of `p` to compare them directly"
   ]
  },
  {
   "cell_type": "code",
   "execution_count": 4,
   "id": "stylish-updating",
   "metadata": {},
   "outputs": [],
   "source": [
    "df_p_2 = df[df['p_max'] == 2].set_index('pynauty_cert').add_suffix(' p=2')\n",
    "df_classical = df_classical.set_index('pynauty_cert').merge(df_p_2, how='inner', left_index=True, right_index=True)"
   ]
  },
  {
   "cell_type": "code",
   "execution_count": 12,
   "id": "hourly-cleaners",
   "metadata": {},
   "outputs": [],
   "source": [
    "df_classical['Goemans-Williamson'] = df_classical['C_{GW}'] / df_classical['C_{true opt}']\n",
    "df_classical['Thompson-Parekh-Marwaha'] = df_classical['C_{TPM}'] / df_classical['C_{true opt}']\n",
    "df_classical['QAOA $p=1$'] = df_classical['C_opt'] / df_classical['C_{true opt}']\n",
    "df_classical['QAOA $p=2$'] = df_classical['C_opt p=2'] / df_classical['C_{true opt}']"
   ]
  },
  {
   "cell_type": "code",
   "execution_count": 14,
   "id": "declared-spread",
   "metadata": {
    "scrolled": false
   },
   "outputs": [
    {
     "data": {
      "image/png": "[encoded data removed]",
      "text/plain": [
       "<Figure size 374.033x249.355 with 1 Axes>"
      ]
     },
     "metadata": {
      "needs_background": "light"
     },
     "output_type": "display_data"
    }
   ],
   "source": [
    "import matplotlib.pyplot as plt\n",
    "from matplotlib import rc\n",
    "#rc('font',**{'family':'sans-serif','sans-serif':['Helvetica']})\n",
    "rc('font',**{'family':'serif','serif':['Times']})\n",
    "rc('text', usetex=True)\n",
    "\n",
    "\n",
    "f, ax = plt.subplots(figsize=(1.5*6.92654/2, 6.92654/2))\n",
    "\n",
    "df_classical.boxplot(\n",
    "    column=[\n",
    "        'Goemans-Williamson',\n",
    "        'Thompson-Parekh-Marwaha',\n",
    "        'QAOA $p=1$',\n",
    "        'QAOA $p=2$',\n",
    "    ],\n",
    "    ax=ax,\n",
    "    whis=(0,100),\n",
    "    vert=False\n",
    ")\n",
    "plt.xlabel('Approximation ratio')\n",
    "plt.tight_layout()\n",
    "plt.savefig('classical_vs_quantum.pdf')"
   ]
  },
  {
   "cell_type": "markdown",
   "id": "whole-above",
   "metadata": {},
   "source": [
    "It looks like at `p=2` QAOA can match the performance of the Thompson-Parekh-Marwaha algorithm, but not Goemans-Williamson!"
   ]
  },
  {
   "cell_type": "code",
   "execution_count": null,
   "id": "motivated-classics",
   "metadata": {},
   "outputs": [],
   "source": []
  }
 ],
 "metadata": {
  "kernelspec": {
   "display_name": "Python 3",
   "language": "python",
   "name": "python3"
  },
  "language_info": {
   "codemirror_mode": {
    "name": "ipython",
    "version": 3
   },
   "file_extension": ".py",
   "mimetype": "text/x-python",
   "name": "python",
   "nbconvert_exporter": "python",
   "pygments_lexer": "ipython3",
   "version": "3.8.8"
  }
 },
 "nbformat": 4,
 "nbformat_minor": 5
}
