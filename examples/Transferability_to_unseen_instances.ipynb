{
 "cells": [
  {
   "cell_type": "markdown",
   "id": "sunrise-float",
   "metadata": {},
   "source": [
    "# Transferring parameters for MaxCut\n",
    "\n",
    "A number of recent results show the power of QAOA parameter transferability, i.e. taking optimal parameters from one instances and using them on another one. In this notebook, we show how the data in `QAOAKit` can be used to reduce or completely avoid the need for parameter optimization on previously unseen instances.\n"
   ]
  },
  {
   "cell_type": "code",
   "execution_count": 1,
   "id": "electrical-guard",
   "metadata": {},
   "outputs": [],
   "source": [
    "import networkx as nx                                          \n",
    "from pathlib import Path                 \n",
    "import pandas as pd                      \n",
    "import numpy as np                       \n",
    "from tqdm import tqdm                    \n",
    "tqdm.pandas()                            \n",
    "                                         \n",
    "from QAOAKit import (                \n",
    "    beta_to_qaoa_format,                 \n",
    "    gamma_to_qaoa_format,                \n",
    "    qaoa_maxcut_energy,                  \n",
    ")                  "
   ]
  },
  {
   "cell_type": "markdown",
   "id": "consolidated-basin",
   "metadata": {},
   "source": [
    "## Step 0: load unseen graphs and optimal parameters for them\n",
    "\n",
    "To evaluate the power of this method, we will consider 10 random Erdos-Renyi graphs for which we have previously optimized the parameters. This step can be skipped if you are trying to use parameters for your own graph!"
   ]
  },
  {
   "cell_type": "code",
   "execution_count": 2,
   "id": "broke-auditor",
   "metadata": {},
   "outputs": [],
   "source": [
    "from QAOAKit.examples_utils import get_20_node_erdos_renyi_graphs\n",
    "df = get_20_node_erdos_renyi_graphs()"
   ]
  },
  {
   "cell_type": "code",
   "execution_count": null,
   "id": "crucial-sheriff",
   "metadata": {},
   "outputs": [],
   "source": [
    "# Optional: verify that the results in the dataset are correct (this may take a few minutes)\n",
    "\n",
    "df['Energy reproduced'] = df.progress_apply(\n",
    "    lambda row: qaoa_maxcut_energy(\n",
    "            row[\"G\"],\n",
    "            beta_to_qaoa_format(row[\"beta\"]),\n",
    "            gamma_to_qaoa_format(row[\"gamma\"]),\n",
    "        ), axis = 1\n",
    ")\n",
    "\n",
    "assert(np.allclose(df['Energy reproduced'], df['QAOA energy with optimized parameters']))"
   ]
  },
  {
   "cell_type": "markdown",
   "id": "cordless-visitor",
   "metadata": {},
   "source": [
    "## Step 1: grab a graph\n",
    "\n",
    "Let's grab one graph from the benchmark and see how well transferred parameters work for it."
   ]
  },
  {
   "cell_type": "code",
   "execution_count": 4,
   "id": "correct-graduate",
   "metadata": {},
   "outputs": [],
   "source": [
    "G = df.iloc[1][\"G\"]\n",
    "optimized_energy = df.iloc[1]['QAOA energy with optimized parameters']\n",
    "optimal_energy = df.iloc[1]['Optimal MaxCut solution from brute force']\n",
    "p = df.iloc[1]['p_max']"
   ]
  },
  {
   "cell_type": "markdown",
   "id": "front-patio",
   "metadata": {},
   "source": [
    "## Step 3: compute median parameters\n",
    "\n",
    "Median parameters have been shown to give good approximation ratios in Ref. [1]. Let's compute median parameters over all graphs with 9 nodes with this value of `p` and see how well it works for out much larger 20-node graph."
   ]
  },
  {
   "cell_type": "code",
   "execution_count": 5,
   "id": "lyric-feeling",
   "metadata": {},
   "outputs": [],
   "source": [
    "from QAOAKit import get_full_qaoa_dataset_table\n",
    "\n",
    "df_full = get_full_qaoa_dataset_table().reset_index().set_index('graph_id')\n",
    "df_full = df_full[(df_full['n'] == 9) & (df_full['p_max'] == p)]\n",
    "\n",
    "data = df_full.apply(lambda x: np.hstack([np.array(x['gamma']), np.array(x['beta'])]), axis=1).values\n",
    "data = np.stack(data)\n",
    "median = np.median(data, axis=0)"
   ]
  },
  {
   "cell_type": "markdown",
   "id": "confident-prediction",
   "metadata": {},
   "source": [
    "## Step 4: plug in the median parametes and get the QAOA energy"
   ]
  },
  {
   "cell_type": "code",
   "execution_count": 6,
   "id": "russian-terrorist",
   "metadata": {},
   "outputs": [],
   "source": [
    "transferred_energy = qaoa_maxcut_energy(G, beta_to_qaoa_format(median[p:]), gamma_to_qaoa_format(median[:p]))"
   ]
  },
  {
   "cell_type": "markdown",
   "id": "sixth-retrieval",
   "metadata": {},
   "source": [
    "How close are they?"
   ]
  },
  {
   "cell_type": "code",
   "execution_count": 7,
   "id": "alternative-operation",
   "metadata": {},
   "outputs": [
    {
     "name": "stdout",
     "output_type": "stream",
     "text": [
      "Energy with median parameters: 53.89719437161661\n",
      "Energy with optimized parameters: 55.059206194600954\n",
      "Approximation ratio with median parameters: 0.7811187590089363\n",
      "Approximation ratio with optimized parameters: 0.7979595100666805\n"
     ]
    }
   ],
   "source": [
    "print(f\"Energy with median parameters: {transferred_energy}\")\n",
    "print(f\"Energy with optimized parameters: {optimized_energy}\")\n",
    "\n",
    "print(f\"Approximation ratio with median parameters: {transferred_energy / optimal_energy}\")\n",
    "print(f\"Approximation ratio with optimized parameters: {optimized_energy / optimal_energy}\")"
   ]
  },
  {
   "cell_type": "markdown",
   "id": "paperback-respondent",
   "metadata": {},
   "source": [
    "That's pretty close!"
   ]
  },
  {
   "cell_type": "markdown",
   "id": "enclosed-burner",
   "metadata": {},
   "source": [
    "## Did we get lucky?\n",
    "\n",
    "Let's see if this holds for all 10 graphs in our dataset and all values of `p` in it."
   ]
  },
  {
   "cell_type": "code",
   "execution_count": 8,
   "id": "german-short",
   "metadata": {},
   "outputs": [
    {
     "name": "stderr",
     "output_type": "stream",
     "text": [
      "100%|██████████| 3/3 [00:14<00:00,  4.96s/it]\n",
      "100%|██████████| 30/30 [07:56<00:00, 15.87s/it]\n"
     ]
    }
   ],
   "source": [
    "medians = {}\n",
    "\n",
    "# compute the median angles for all values of p\n",
    "for p in tqdm(range(1,4)):\n",
    "    df_full = get_full_qaoa_dataset_table().reset_index().set_index('graph_id')\n",
    "    df_full = df_full[(df_full['n'] == 9) & (df_full['p_max'] == p)]\n",
    "\n",
    "    data = df_full.apply(lambda x: np.hstack([np.array(x['gamma']), np.array(x['beta'])]), axis=1).values\n",
    "    data = np.stack(data)\n",
    "    medians[p] = np.median(data, axis=0)\n",
    "\n",
    "# compute the energy with one of the three median QAOA parameters  \n",
    "df['QAOA energy with median parameters'] = df.progress_apply(\n",
    "    lambda row: qaoa_maxcut_energy(\n",
    "        row['G'], \n",
    "        beta_to_qaoa_format(medians[row['p_max']][row['p_max']:]), \n",
    "        gamma_to_qaoa_format(medians[row['p_max']][:row['p_max']])\n",
    "    ), axis=1\n",
    ")"
   ]
  },
  {
   "cell_type": "code",
   "execution_count": 14,
   "id": "acceptable-allocation",
   "metadata": {},
   "outputs": [
    {
     "data": {
      "image/png": "[encoded data removed]",
      "text/plain": [
       "<Figure size 432x216 with 3 Axes>"
      ]
     },
     "metadata": {
      "needs_background": "light"
     },
     "output_type": "display_data"
    }
   ],
   "source": [
    "import matplotlib.pyplot as plt\n",
    "from matplotlib import rc\n",
    "#rc('font',**{'family':'sans-serif','sans-serif':['Helvetica']})\n",
    "rc('font',**{'family':'serif','serif':['Times']})\n",
    "rc('text', usetex=True)\n",
    " \n",
    "df['Transferred'] = df['QAOA energy with median parameters'] / df['Optimal MaxCut solution from brute force']\n",
    "df['Optimized'] = df['QAOA energy with optimized parameters'] / df['Optimal MaxCut solution from brute force']\n",
    " \n",
    "f, ax = plt.subplots(1,3, figsize=(6,3))\n",
    "ps = [1,2,3]\n",
    "for idx, p in enumerate(ps):\n",
    "    df[df['p_max'] == p].boxplot(column=['Transferred', 'Optimized'], ax=ax[idx])\n",
    "    ax[idx].set_title(f\"p={p}\")\n",
    "    ax[idx].set_ylim(0,1)\n",
    "f.suptitle(\"Approximation ratio with transferred median and directly optimized parameters\")\n",
    "plt.tight_layout()\n",
    "plt.savefig(\"transferability.pdf\")\n",
    "plt.show()"
   ]
  },
  {
   "cell_type": "code",
   "execution_count": 10,
   "id": "medical-scroll",
   "metadata": {},
   "outputs": [
    {
     "name": "stdout",
     "output_type": "stream",
     "text": [
      "Mean approximation ratios for p=1:\n",
      "Transferred    0.804248\n",
      "Optimized      0.821017\n",
      "dtype: float64\n",
      "Mean approximation ratios for p=2:\n",
      "Transferred    0.798006\n",
      "Optimized      0.875290\n",
      "dtype: float64\n",
      "Mean approximation ratios for p=3:\n",
      "Transferred    0.813761\n",
      "Optimized      0.899247\n",
      "dtype: float64\n"
     ]
    }
   ],
   "source": [
    "for idx, p in enumerate(ps):\n",
    "    print(f\"Mean approximation ratios for p={p}:\")\n",
    "    print(df[df['p_max'] == p][['Transferred', 'Optimized']].mean())"
   ]
  },
  {
   "cell_type": "markdown",
   "id": "integral-fifteen",
   "metadata": {},
   "source": [
    "Median parameters work well for all graphs in our dataset!"
   ]
  },
  {
   "cell_type": "markdown",
   "id": "oriental-rabbit",
   "metadata": {},
   "source": [
    "# References\n",
    "\n",
    "[1] Lotshaw, Phillip C., et al. \"Empirical performance bounds for quantum approximate optimization.\" arXiv:2102.06813 (2021)."
   ]
  }
 ],
 "metadata": {
  "kernelspec": {
   "display_name": "Python 3",
   "language": "python",
   "name": "python3"
  },
  "language_info": {
   "codemirror_mode": {
    "name": "ipython",
    "version": 3
   },
   "file_extension": ".py",
   "mimetype": "text/x-python",
   "name": "python",
   "nbconvert_exporter": "python",
   "pygments_lexer": "ipython3",
   "version": "3.8.8"
  }
 },
 "nbformat": 4,
 "nbformat_minor": 5
}
