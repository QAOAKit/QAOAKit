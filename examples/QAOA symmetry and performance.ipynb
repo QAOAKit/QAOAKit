{
 "cells": [
  {
   "cell_type": "markdown",
   "id": "dedicated-import",
   "metadata": {},
   "source": [
    "# Tackling open problems with `QAOAKit`\n",
    "\n",
    "`QAOAKit` is a unique tool for the study of QAOA. Here, we show how it can be used to tackle an open problem in quantum optimization.\n",
    "\n",
    "### Problem: when does QAOA perform poorly?\n",
    "\n",
    "An important question is identifying the properties of instances that lead to QAOA doing poorly or well on these instances. Let's see how QAOAKit data can help us tackle this question.\n",
    "\n",
    "Let's begin by load all the data we have"
   ]
  },
  {
   "cell_type": "code",
   "execution_count": 1,
   "id": "novel-capitol",
   "metadata": {},
   "outputs": [
    {
     "name": "stdout",
     "output_type": "stream",
     "text": [
      "Dataset contains 866383 instances\n"
     ]
    }
   ],
   "source": [
    "import matplotlib as mpl\n",
    "\n",
    "from matplotlib import rc\n",
    "rc('font',**{'family':'serif','serif':['Times']})\n",
    "rc('text', usetex=True)\n",
    "\n",
    "import matplotlib.pyplot as plt\n",
    "import seaborn as sns\n",
    "\n",
    "from QAOAKit import get_full_qaoa_dataset_table, get_3_reg_dataset_table\n",
    "\n",
    "df = get_full_qaoa_dataset_table().reset_index()\n",
    "df = df.append(get_3_reg_dataset_table().reset_index())\n",
    "print(f\"Dataset contains {len(df)} instances\")"
   ]
  },
  {
   "cell_type": "markdown",
   "id": "english-highlight",
   "metadata": {},
   "source": [
    "Ref [1] suggests that symmetry of the problem may be a powerful predictor of QAOA performance. Let's see if this is indeed the case. \n",
    "\n",
    "We will use the number of vertex orbits as the chosen measure of graph symmetry. An orbit is a class of equivalence imposed on vertices by the symmetry (automorphism). The fewer orbits the graph has, the more symmetric it is. For example, a cycle graph has only one vertex orbit as any vertex can be \"rotated\" into any other one. We will use `pynauty` to compute the group of automorphisms."
   ]
  },
  {
   "cell_type": "code",
   "execution_count": 2,
   "id": "advised-theorem",
   "metadata": {},
   "outputs": [
    {
     "name": "stdout",
     "output_type": "stream",
     "text": [
      "Number of vertex orbits: 1\n"
     ]
    },
    {
     "data": {
      "image/png": "[encoded data removed]",
      "text/plain": [
       "<Figure size 432x288 with 1 Axes>"
      ]
     },
     "metadata": {},
     "output_type": "display_data"
    }
   ],
   "source": [
    "import networkx as nx\n",
    "import pynauty\n",
    "from QAOAKit.utils import get_adjacency_dict\n",
    "\n",
    "def get_number_of_orbits(G):\n",
    "    \"\"\"Returns the number of vertex orbits of a graph\n",
    "    \"\"\"\n",
    "    assert isinstance(G, nx.Graph)\n",
    "    g = pynauty.Graph(number_of_vertices=G.number_of_nodes(), directed=nx.is_directed(G),\n",
    "                        adjacency_dict = get_adjacency_dict(G))\n",
    "    return pynauty.autgrp(g)[4]\n",
    "\n",
    "G = nx.cycle_graph(5)\n",
    "print(f\"Number of vertex orbits: {get_number_of_orbits(G)}\")\n",
    "nx.draw(G)"
   ]
  },
  {
   "cell_type": "markdown",
   "id": "complex-december",
   "metadata": {},
   "source": [
    "Now, let's compute this value for every instance in the dataset"
   ]
  },
  {
   "cell_type": "code",
   "execution_count": 3,
   "id": "improving-captain",
   "metadata": {},
   "outputs": [
    {
     "name": "stderr",
     "output_type": "stream",
     "text": [
      "100%|██████████| 866383/866383 [00:28<00:00, 30047.60it/s]\n"
     ]
    }
   ],
   "source": [
    "from tqdm import tqdm                    \n",
    "tqdm.pandas()          \n",
    "\n",
    "df['Number of orbits'] = df.progress_apply(\n",
    "    lambda row: get_number_of_orbits(row['G']),\n",
    "    axis = 1,\n",
    ")"
   ]
  },
  {
   "cell_type": "code",
   "execution_count": 4,
   "id": "innocent-meeting",
   "metadata": {},
   "outputs": [
    {
     "data": {
      "text/plain": [
       "(8120, 40600)"
      ]
     },
     "execution_count": 4,
     "metadata": {},
     "output_type": "execute_result"
    }
   ],
   "source": [
    "len(df[df['n'] == 16]['C_opt'].dropna()), len(df[df['n'] == 16]['C_opt'])"
   ]
  },
  {
   "cell_type": "markdown",
   "id": "perfect-draft",
   "metadata": {},
   "source": [
    "And compute mean approximation ratio for each value of QAOA depth `p` and number of nodes `n`."
   ]
  },
  {
   "cell_type": "code",
   "execution_count": 5,
   "id": "boring-sunglasses",
   "metadata": {},
   "outputs": [],
   "source": [
    "df['Approximation ratio'] = df['C_opt'] / df['C_{true opt}']\n",
    "df['Approximation ratio initial state'] = df['C_init'] / df['C_{true opt}']"
   ]
  },
  {
   "cell_type": "code",
   "execution_count": 6,
   "id": "minute-bearing",
   "metadata": {},
   "outputs": [],
   "source": [
    "ratio_by_p_and_n = (\n",
    "    df.groupby(['p_max','Number of orbits','n'])\n",
    "    .mean()['Approximation ratio']\n",
    "    .dropna()\n",
    "    .reset_index()\n",
    ")\n",
    "\n",
    "ratio_by_p_and_n_init = (\n",
    "    df.groupby(['p_max','Number of orbits','n'])\n",
    "    .mean()['Approximation ratio initial state']\n",
    "    .dropna()\n",
    "    .reset_index()\n",
    ")"
   ]
  },
  {
   "cell_type": "markdown",
   "id": "facial-salad",
   "metadata": {},
   "source": [
    "First, let's look at graph with 9 nodes. For these, our dataset includes all non-isomorphic 9 node graphs"
   ]
  },
  {
   "cell_type": "code",
   "execution_count": 7,
   "id": "strong-orbit",
   "metadata": {},
   "outputs": [
    {
     "name": "stdout",
     "output_type": "stream",
     "text": [
      "Looking at 783240 9-node graph instances\n"
     ]
    },
    {
     "data": {
      "image/png": "[encoded data removed]",
      "text/plain": [
       "<Figure size 249.355x249.355 with 1 Axes>"
      ]
     },
     "metadata": {
      "needs_background": "light"
     },
     "output_type": "display_data"
    }
   ],
   "source": [
    "f, ax = plt.subplots(figsize=(6.92654/2, 6.92654/2), sharey=True)\n",
    "\n",
    "print(f\"Looking at {len(df[df['n'] == 9].dropna(subset=['C_opt']))} 9-node graph instances\")\n",
    "\n",
    "palette = sns.color_palette(\"viridis\",4)\n",
    "\n",
    "ratio_by_p_and_n_init[\n",
    "    (ratio_by_p_and_n_init['p_max'] == 1) & (ratio_by_p_and_n_init['n'] == 9)\n",
    "].plot(y='Approximation ratio initial state', x='Number of orbits', label=f'$p={0}$', ax=ax, c=palette[0])\n",
    "\n",
    "for p in [1,2,3]:\n",
    "    ratio_by_p_and_n[\n",
    "        (ratio_by_p_and_n['p_max'] == p) & (ratio_by_p_and_n['n'] == 9)\n",
    "    ].plot(y='Approximation ratio', x='Number of orbits', label=f'$p={p}$', ax=ax, c=palette[p])\n",
    "\n",
    "ax.legend(\n",
    "    loc='upper center', \n",
    "    bbox_to_anchor=(0.5, 1.27), \n",
    "    ncol=2\n",
    ")\n",
    "ax.set_ylabel('Approximation ratio')\n",
    "plt.tight_layout()\n",
    "plt.savefig('symmetry_and_performance.pdf')"
   ]
  },
  {
   "cell_type": "markdown",
   "id": "competent-jenny",
   "metadata": {},
   "source": [
    "It looks like the most symmetric graphs are the easiest for QAOA! What if we control for the density of the graph?"
   ]
  },
  {
   "cell_type": "code",
   "execution_count": 8,
   "id": "narrow-harvest",
   "metadata": {},
   "outputs": [],
   "source": [
    "df['Average degree'] = df.apply(lambda row: 2*row['G'].number_of_edges() / row['G'].number_of_nodes(), axis=1)"
   ]
  },
  {
   "cell_type": "code",
   "execution_count": 9,
   "id": "motivated-christmas",
   "metadata": {},
   "outputs": [
    {
     "name": "stdout",
     "output_type": "stream",
     "text": [
      "Looking at 324741 sparse 9-node graph instances\n"
     ]
    },
    {
     "data": {
      "image/png": "[encoded data removed]",
      "text/plain": [
       "<Figure size 249.355x199.484 with 1 Axes>"
      ]
     },
     "metadata": {
      "needs_background": "light"
     },
     "output_type": "display_data"
    }
   ],
   "source": [
    "f, ax = plt.subplots(figsize=(6.92654/2, 6.92654/2.5))\n",
    "\n",
    "sub_df = df[(df['Average degree'] < 4)]\n",
    "\n",
    "ratio_by_p_and_n_sub_df = (\n",
    "    sub_df.groupby(['p_max','Number of orbits', 'n'])\n",
    "    .mean()['Approximation ratio']\n",
    "    .dropna()\n",
    "    .reset_index()\n",
    ")\n",
    "\n",
    "ratio_by_p_and_n_sub_df_init = (\n",
    "    sub_df.groupby(['p_max','Number of orbits', 'n'])\n",
    "    .mean()['Approximation ratio initial state']\n",
    "    .dropna()\n",
    "    .reset_index()\n",
    ")\n",
    "\n",
    "print(f\"Looking at {len(sub_df[sub_df['n'] == 9].dropna(subset=['C_opt']))} sparse 9-node graph instances\")\n",
    "\n",
    "ratio_by_p_and_n_sub_df_init[\n",
    "    (ratio_by_p_and_n_sub_df_init['p_max'] == 1) & (ratio_by_p_and_n_sub_df_init['n'] == 9)\n",
    "].plot(y='Approximation ratio initial state', x='Number of orbits', label=f'$p={0}$', ax=ax, c=palette[0])\n",
    "\n",
    "for p in [1,2,3]:\n",
    "    ratio_by_p_and_n_sub_df[\n",
    "        (ratio_by_p_and_n_sub_df['p_max'] == p) & (ratio_by_p_and_n_sub_df['n'] == 9)\n",
    "    ].plot(y='Approximation ratio', x='Number of orbits', label=f'$p={p}$', ax=ax, c=palette[p])\n",
    "\n",
    "ax.get_legend().remove()\n",
    "ax.set_ylabel('Approximation ratio')\n",
    "plt.tight_layout()\n",
    "plt.savefig('symmetry_and_performance_sparse.pdf')"
   ]
  },
  {
   "cell_type": "markdown",
   "id": "controlled-complex",
   "metadata": {},
   "source": [
    "The relationship still holds, albeit it's slightly weaker. Now, let's consider all non-isomorphic 16-node 3-regular graphs."
   ]
  },
  {
   "cell_type": "code",
   "execution_count": 10,
   "id": "enabling-purpose",
   "metadata": {
    "scrolled": false
   },
   "outputs": [
    {
     "name": "stdout",
     "output_type": "stream",
     "text": [
      "Looking at 8120 16-node 3-regular graph instances\n"
     ]
    },
    {
     "data": {
      "image/png": "[encoded data removed]",
      "text/plain": [
       "<Figure size 249.355x249.355 with 1 Axes>"
      ]
     },
     "metadata": {
      "needs_background": "light"
     },
     "output_type": "display_data"
    }
   ],
   "source": [
    "import matplotlib.pyplot as plt\n",
    "\n",
    "f, ax = plt.subplots(figsize=(6.92654/2, 6.92654/2))\n",
    "\n",
    "\n",
    "print(f\"Looking at {len(df[df['n'] == 16].dropna(subset=['C_opt']))} 16-node 3-regular graph instances\")\n",
    "\n",
    "for p in [1,2]:\n",
    "    ratio_by_p_and_n[\n",
    "        (ratio_by_p_and_n['p_max'] == p) & (ratio_by_p_and_n['n'] == 16)\n",
    "    ].plot(y='Approximation ratio', x='Number of orbits', label=f'$p={p}$', ax=ax)"
   ]
  },
  {
   "cell_type": "markdown",
   "id": "determined-winning",
   "metadata": {},
   "source": [
    "Now the most symmetric instances appear to be the hardest, and no clear relationship is present beyond 2 orbits. Unfortunately, the initial state energy is not available in QAOAKit. Note that there are only 4 3-regular graphs on 16 nodes with exactly one orbit, meaning that this may be an outlier."
   ]
  },
  {
   "cell_type": "code",
   "execution_count": 11,
   "id": "nuclear-button",
   "metadata": {},
   "outputs": [
    {
     "name": "stdout",
     "output_type": "stream",
     "text": [
      "Number of 3-regular graphs on 16 nodes with one orbit: 4\n"
     ]
    }
   ],
   "source": [
    "print(f\"Number of 3-regular graphs on 16 nodes with one orbit: {len(df[(df['n'] == 16) & (df['Number of orbits'] == 1) & (df['p_max'] == 1)]['C_opt'].dropna())}\")"
   ]
  },
  {
   "cell_type": "markdown",
   "id": "particular-figure",
   "metadata": {},
   "source": [
    "## References\n",
    "\n",
    "[1] Shaydulin, R., Hadfield, S., Hogg, T., & Safro, I. (2020). Classical symmetries and QAOA. arXiv:2012.04713."
   ]
  },
  {
   "cell_type": "code",
   "execution_count": null,
   "id": "stuck-browse",
   "metadata": {},
   "outputs": [],
   "source": []
  }
 ],
 "metadata": {
  "kernelspec": {
   "display_name": "Python 3",
   "language": "python",
   "name": "python3"
  },
  "language_info": {
   "codemirror_mode": {
    "name": "ipython",
    "version": 3
   },
   "file_extension": ".py",
   "mimetype": "text/x-python",
   "name": "python",
   "nbconvert_exporter": "python",
   "pygments_lexer": "ipython3",
   "version": "3.8.8"
  }
 },
 "nbformat": 4,
 "nbformat_minor": 5
}
